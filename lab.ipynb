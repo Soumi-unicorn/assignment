{
  "nbformat": 4,
  "nbformat_minor": 0,
  "metadata": {
    "colab": {
      "provenance": []
    },
    "kernelspec": {
      "name": "python3",
      "display_name": "Python 3"
    },
    "language_info": {
      "name": "python"
    }
  },
  "cells": [
    {
      "cell_type": "code",
      "execution_count": null,
      "metadata": {
        "id": "yJsYpwNdv2Vv"
      },
      "outputs": [],
      "source": []
    },
    {
      "cell_type": "markdown",
      "source": [
        "1. Write a Python program to print \"Hello, World!_\n",
        "\n",
        "```\n",
        "# This is formatted as code\n",
        "```\n",
        "\n"
      ],
      "metadata": {
        "id": "dOg7pysLv7s-"
      }
    },
    {
      "cell_type": "code",
      "source": [
        "print(\"Hello World\")\n",
        "#hello world is printed"
      ],
      "metadata": {
        "colab": {
          "base_uri": "https://localhost:8080/"
        },
        "id": "NCbvxgp6wBUa",
        "outputId": "2a6b98c6-64ed-4afd-ec38-707151920e3a"
      },
      "execution_count": null,
      "outputs": [
        {
          "output_type": "stream",
          "name": "stdout",
          "text": [
            "Hello World\n"
          ]
        }
      ]
    },
    {
      "cell_type": "code",
      "source": [
        "#Write a Python program that displays your name and age\n",
        "name =(\"Soumi\")\n",
        "age=(24)\n",
        "print(name)\n",
        "print(age)\n"
      ],
      "metadata": {
        "colab": {
          "base_uri": "https://localhost:8080/"
        },
        "id": "lt9Gt9YtwdQv",
        "outputId": "e2b7da60-7d21-46e3-b124-236539ff040b"
      },
      "execution_count": null,
      "outputs": [
        {
          "output_type": "stream",
          "name": "stdout",
          "text": [
            "Soumi\n",
            "24\n"
          ]
        }
      ]
    },
    {
      "cell_type": "code",
      "source": [
        "#3)Write code to print all the pre-defined keywords in Python using the keyword library\n",
        "import keyword\n",
        "print(keyword.kwlist)"
      ],
      "metadata": {
        "colab": {
          "base_uri": "https://localhost:8080/"
        },
        "id": "-os6cH3Kw2Na",
        "outputId": "85c0298c-3cb3-4d70-91c3-b80128b13cb6"
      },
      "execution_count": null,
      "outputs": [
        {
          "output_type": "stream",
          "name": "stdout",
          "text": [
            "['False', 'None', 'True', 'and', 'as', 'assert', 'async', 'await', 'break', 'class', 'continue', 'def', 'del', 'elif', 'else', 'except', 'finally', 'for', 'from', 'global', 'if', 'import', 'in', 'is', 'lambda', 'nonlocal', 'not', 'or', 'pass', 'raise', 'return', 'try', 'while', 'with', 'yield']\n"
          ]
        }
      ]
    },
    {
      "cell_type": "code",
      "source": [
        "#4) Write a program that checks if a given word is a Python keyword\n",
        "import keyword\n",
        "word = input(\"Enter a word: \")\n",
        "if keyword.iskeyword(word):\n",
        "    print(f\"{word} is a Python keyword.\")\n",
        "else:\n",
        "    print(f\"{word} is not a Python keyword.\")\n"
      ],
      "metadata": {
        "colab": {
          "base_uri": "https://localhost:8080/"
        },
        "id": "IUw8WSUvxUuy",
        "outputId": "d00dba8b-c0bf-44b0-cc84-266c76b5b018"
      },
      "execution_count": null,
      "outputs": [
        {
          "output_type": "stream",
          "name": "stdout",
          "text": [
            "Enter a word: True\n",
            "True is a Python keyword.\n"
          ]
        }
      ]
    },
    {
      "cell_type": "code",
      "source": [
        "#Create a list and tuple in Python, and demonstrate how attempting to change an element works differently\n",
        "#for each\n",
        "list =[2,4,6,\"Abc\",\"Mno\",2.5]\n",
        "list[2]=\"twinkle twinkle\"\n",
        "print(list)\n",
        "\n",
        "\n",
        "\n",
        "#tuple\n",
        "tuple =(2,4,6,\"Abc\",\"Mno\",2.5)\n",
        "print(tuple)"
      ],
      "metadata": {
        "colab": {
          "base_uri": "https://localhost:8080/"
        },
        "id": "dxNq61Glzykv",
        "outputId": "e45c3db1-1fb7-4e91-ef39-bfeee483c744"
      },
      "execution_count": null,
      "outputs": [
        {
          "output_type": "stream",
          "name": "stdout",
          "text": [
            "[2, 4, 'twinkle twinkle', 'Abc', 'Mno', 2.5]\n",
            "(2, 4, 6, 'Abc', 'Mno', 2.5)\n"
          ]
        }
      ]
    },
    {
      "cell_type": "code",
      "source": [
        "from re import X\n",
        "# Write a function to demonstrate the behavior of mutable and immutable arguments\n",
        "x=(2,3,45,6)\n",
        "def modify_immutable(x):\n",
        "    x.append(4)\n",
        "    return x\n",
        "    x=()\n",
        "    print(x)\n",
        "lst =[1,2,3]\n",
        "def modify_mutable(lst):\n",
        "    lst.append(4)\n",
        "    return lst\n",
        "    print(lst)"
      ],
      "metadata": {
        "id": "0OrduKCx17K8"
      },
      "execution_count": null,
      "outputs": []
    },
    {
      "cell_type": "code",
      "source": [
        "# Write a program to demonstrate the use of logical operators\n",
        "a=[\"3\",5,7,9.8]\n",
        "b=[\"3\",5,7,9.8]\n",
        "print(a==b)\n",
        "print(a is b)\n",
        "\n",
        "\n",
        "\n",
        "\n",
        "\n"
      ],
      "metadata": {
        "colab": {
          "base_uri": "https://localhost:8080/"
        },
        "id": "OG80s5dlsTla",
        "outputId": "637cf813-8791-4bc1-8634-f018f1f20694"
      },
      "execution_count": 3,
      "outputs": [
        {
          "output_type": "stream",
          "name": "stdout",
          "text": [
            "True\n",
            "False\n"
          ]
        }
      ]
    },
    {
      "cell_type": "markdown",
      "source": [],
      "metadata": {
        "id": "xiYrEPAV7Qdy"
      }
    },
    {
      "cell_type": "code",
      "source": [
        "tuple= (2,3,4,5)\n",
        "list =[\"ny\",\"usa\",\"brazil\",8.9,22]\n",
        "if tuple in list:\n",
        "  print(\"true\")\n",
        "else:\n",
        "  print(\"false\")"
      ],
      "metadata": {
        "colab": {
          "base_uri": "https://localhost:8080/"
        },
        "id": "LHTpJmhN59g-",
        "outputId": "fa71bef9-3b5d-4bc1-c195-04738e3615ca"
      },
      "execution_count": 4,
      "outputs": [
        {
          "output_type": "stream",
          "name": "stdout",
          "text": [
            "false\n"
          ]
        }
      ]
    },
    {
      "cell_type": "code",
      "source": [
        "# Write a Python program to convert user input from string to integer, float, and boolean types\n",
        "\n",
        "\n",
        "# Write a Python program to convert user input from string to integer, float, and boolean types\n",
        "\n",
        "a = input(\"enter a string: \")\n",
        "\n",
        "# Remove any leading/trailing quotes from the string if present:\n",
        "a = a.strip('\\\"') #This will strip \" from the string entered\n",
        "\n",
        "b = int(a)\n",
        "c = float(a)\n",
        "d = bool(a)\n",
        "print(b)\n",
        "print(c)\n",
        "print(d)"
      ],
      "metadata": {
        "colab": {
          "base_uri": "https://localhost:8080/"
        },
        "id": "O1kMAeHm7TFB",
        "outputId": "ca2192ff-b772-47e9-efb6-cd0159a08232"
      },
      "execution_count": 14,
      "outputs": [
        {
          "output_type": "stream",
          "name": "stdout",
          "text": [
            "enter a string: \"77\"\n",
            "77\n",
            "77.0\n",
            "True\n"
          ]
        }
      ]
    },
    {
      "cell_type": "code",
      "source": [
        "# Write code to demonstrate type casting with list elements\n",
        "\n",
        "list=[\"88\",90,9.0,86,\"45\",]\n",
        "list[0]=int(list[0])\n",
        "list[1]=float(list[1])\n",
        "list[2]=bool(list[2])\n",
        "print(list)\n",
        "\n"
      ],
      "metadata": {
        "colab": {
          "base_uri": "https://localhost:8080/"
        },
        "id": "MWnIWbbJBt0f",
        "outputId": "c0291837-7066-4d70-a21f-0c364f560ad6"
      },
      "execution_count": 15,
      "outputs": [
        {
          "output_type": "stream",
          "name": "stdout",
          "text": [
            "[88, 90.0, True, 86, '45']\n"
          ]
        }
      ]
    },
    {
      "cell_type": "code",
      "source": [
        "# Write a program that checks if a number is positive, negative, or zero\n",
        "a = int(input(\"Enter a number:\"))\n",
        "if a>0:\n",
        "  print(\"The number is positive\")\n",
        "elif a<0:\n",
        "  print(\"The number is negative\")\n",
        "elif a==0:\n",
        "  print(\"The number is zero\")\n",
        "else:\n",
        "  print(\"Invalid input\")\n",
        "\n",
        "\n",
        "\n"
      ],
      "metadata": {
        "colab": {
          "base_uri": "https://localhost:8080/"
        },
        "id": "tgMGdajZE2Wr",
        "outputId": "066b7e28-5c8f-4d76-d05b-377527e19218"
      },
      "execution_count": 20,
      "outputs": [
        {
          "output_type": "stream",
          "name": "stdout",
          "text": [
            "Enter a number:88\n",
            "The number is positive\n"
          ]
        }
      ]
    },
    {
      "cell_type": "code",
      "source": [
        "#  Write a for loop to print numbers from 1 to 100\n",
        "for i in range(1,101):\n",
        "  print(i)\n"
      ],
      "metadata": {
        "colab": {
          "base_uri": "https://localhost:8080/"
        },
        "id": "p_o_Qt0UG9Ju",
        "outputId": "b89da7b6-939f-40bd-c8ef-2573d893a148"
      },
      "execution_count": 21,
      "outputs": [
        {
          "output_type": "stream",
          "name": "stdout",
          "text": [
            "1\n",
            "2\n",
            "3\n",
            "4\n",
            "5\n",
            "6\n",
            "7\n",
            "8\n",
            "9\n",
            "10\n",
            "11\n",
            "12\n",
            "13\n",
            "14\n",
            "15\n",
            "16\n",
            "17\n",
            "18\n",
            "19\n",
            "20\n",
            "21\n",
            "22\n",
            "23\n",
            "24\n",
            "25\n",
            "26\n",
            "27\n",
            "28\n",
            "29\n",
            "30\n",
            "31\n",
            "32\n",
            "33\n",
            "34\n",
            "35\n",
            "36\n",
            "37\n",
            "38\n",
            "39\n",
            "40\n",
            "41\n",
            "42\n",
            "43\n",
            "44\n",
            "45\n",
            "46\n",
            "47\n",
            "48\n",
            "49\n",
            "50\n",
            "51\n",
            "52\n",
            "53\n",
            "54\n",
            "55\n",
            "56\n",
            "57\n",
            "58\n",
            "59\n",
            "60\n",
            "61\n",
            "62\n",
            "63\n",
            "64\n",
            "65\n",
            "66\n",
            "67\n",
            "68\n",
            "69\n",
            "70\n",
            "71\n",
            "72\n",
            "73\n",
            "74\n",
            "75\n",
            "76\n",
            "77\n",
            "78\n",
            "79\n",
            "80\n",
            "81\n",
            "82\n",
            "83\n",
            "84\n",
            "85\n",
            "86\n",
            "87\n",
            "88\n",
            "89\n",
            "90\n",
            "91\n",
            "92\n",
            "93\n",
            "94\n",
            "95\n",
            "96\n",
            "97\n",
            "98\n",
            "99\n",
            "100\n"
          ]
        }
      ]
    },
    {
      "cell_type": "code",
      "source": [
        "#  Write a Python program to find the sum of all even numbers between 1 and 500\n",
        "sum_of_even_numbers = 0\n",
        "for number in range(2, 501, 2):\n",
        "    sum_of_even_numbers += number\n",
        "print(\"The sum of all even numbers between 1 and 500 is:\", sum_of_even_numbers)\n",
        "\n",
        "\n",
        "\n",
        "\n",
        "sum_of_odd_numbers =1\n",
        "for numbers in range(1,501,1):\n",
        "  sum_of_odd_numbers +=number\n",
        "print(\"The number is:\",sum_of_odd_numbers)\n",
        "\n"
      ],
      "metadata": {
        "colab": {
          "base_uri": "https://localhost:8080/"
        },
        "id": "w-hpiTEfHyus",
        "outputId": "611df78a-b418-4507-907a-f87688287e7e"
      },
      "execution_count": 27,
      "outputs": [
        {
          "output_type": "stream",
          "name": "stdout",
          "text": [
            "The sum of all even numbers between 1 and 500 is: 62750\n",
            "The number is: 250001\n"
          ]
        }
      ]
    },
    {
      "cell_type": "code",
      "source": [
        "# Write a program to reverse a string using a while loop\n",
        "string = input(\"Enter a string: \")\n",
        "reversed_string = \"\"\n",
        "index = len(string) - 1\n",
        "while index >= 0:\n",
        "    reversed_string += string[index]\n",
        "    index -= 1\n",
        "print(\"The reversed string is:\", reversed_string)\n"
      ],
      "metadata": {
        "colab": {
          "base_uri": "https://localhost:8080/"
        },
        "id": "KsgD6G8hXj5W",
        "outputId": "7559da08-3f06-4d86-e233-628d2a0a534b"
      },
      "execution_count": 28,
      "outputs": [
        {
          "output_type": "stream",
          "name": "stdout",
          "text": [
            "Enter a string: HAPPY NEW YEAR\n",
            "The reversed string is: RAEY WEN YPPAH\n"
          ]
        }
      ]
    },
    {
      "cell_type": "code",
      "source": [
        "# Write a Python program to calculate the factorial of a number provided by the user using a while loop.\n",
        "number = int(input(\"Enter a number: \"))\n",
        "factorial = 1\n",
        "current_number = 1\n",
        "while current_number <= number:\n",
        "    factorial *= current_number\n",
        "    current_number += 1\n",
        "print(f\"The factorial of {number} is {factorial}\")\n"
      ],
      "metadata": {
        "colab": {
          "base_uri": "https://localhost:8080/"
        },
        "id": "4fZbACC2Yl-e",
        "outputId": "8a9d99b6-fce5-4780-d734-a4ca6a8ad7df"
      },
      "execution_count": 29,
      "outputs": [
        {
          "output_type": "stream",
          "name": "stdout",
          "text": [
            "Enter a number: 28\n",
            "The factorial of 28 is 304888344611713860501504000000\n"
          ]
        }
      ]
    }
  ]
}